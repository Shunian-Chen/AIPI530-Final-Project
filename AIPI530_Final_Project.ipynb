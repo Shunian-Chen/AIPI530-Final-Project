{
  "nbformat": 4,
  "nbformat_minor": 0,
  "metadata": {
    "colab": {
      "name": "AIPI530 Final Project.ipynb",
      "provenance": [],
      "authorship_tag": "ABX9TyMKhgqrjwdKtvXj2OKo0xx+",
      "include_colab_link": true
    },
    "kernelspec": {
      "name": "python3",
      "display_name": "Python 3"
    },
    "language_info": {
      "name": "python"
    },
    "accelerator": "GPU"
  },
  "cells": [
    {
      "cell_type": "markdown",
      "metadata": {
        "id": "view-in-github",
        "colab_type": "text"
      },
      "source": [
        "<a href=\"https://colab.research.google.com/github/Shunian-Chen/AIPI530-Final-Project/blob/master/AIPI530_Final_Project.ipynb\" target=\"_parent\"><img src=\"https://colab.research.google.com/assets/colab-badge.svg\" alt=\"Open In Colab\"/></a>"
      ]
    },
    {
      "cell_type": "code",
      "metadata": {
        "colab": {
          "base_uri": "https://localhost:8080/"
        },
        "id": "Se2tPsGKy7wG",
        "outputId": "cf11cbd1-9d70-4fa8-e131-8d4feb39e023"
      },
      "source": [
        "from os.path import join\n",
        "from google.colab import drive\n",
        "\n",
        "ROOT = \"/content/drive\"\n",
        "drive.mount(ROOT)"
      ],
      "execution_count": 1,
      "outputs": [
        {
          "output_type": "stream",
          "name": "stdout",
          "text": [
            "Mounted at /content/drive\n"
          ]
        }
      ]
    },
    {
      "cell_type": "code",
      "metadata": {
        "colab": {
          "base_uri": "https://localhost:8080/"
        },
        "id": "yrs7Nn18zS-_",
        "outputId": "e96cda66-630c-4e31-d63f-a14ebb6a48c6"
      },
      "source": [
        "PROJ = \"My Drive/repos\"\n",
        "PROJECT_PATH = join(ROOT, PROJ)\n",
        "!mkdir \"{PROJECT_PATH}\""
      ],
      "execution_count": 2,
      "outputs": [
        {
          "output_type": "stream",
          "name": "stdout",
          "text": [
            "mkdir: cannot create directory ‘/content/drive/My Drive/repos’: File exists\n"
          ]
        }
      ]
    },
    {
      "cell_type": "code",
      "metadata": {
        "colab": {
          "base_uri": "https://localhost:8080/"
        },
        "id": "n_BqDCCtzeya",
        "outputId": "d9aad81e-32df-4235-aa75-20b318adcd4f"
      },
      "source": [
        "!ls"
      ],
      "execution_count": 3,
      "outputs": [
        {
          "output_type": "stream",
          "name": "stdout",
          "text": [
            "drive  sample_data\n"
          ]
        }
      ]
    },
    {
      "cell_type": "code",
      "metadata": {
        "colab": {
          "base_uri": "https://localhost:8080/"
        },
        "id": "RLe4X1dtzlal",
        "outputId": "126d067a-cba9-42f9-e60c-8d67a20e0501"
      },
      "source": [
        "%cd /content/drive/\"My Drive\"/repos"
      ],
      "execution_count": 4,
      "outputs": [
        {
          "output_type": "stream",
          "name": "stdout",
          "text": [
            "/content/drive/My Drive/repos\n"
          ]
        }
      ]
    },
    {
      "cell_type": "code",
      "metadata": {
        "colab": {
          "base_uri": "https://localhost:8080/"
        },
        "id": "XjYMgTm7x0oC",
        "outputId": "936dd9c4-275c-4bc7-d700-851fffa1a4b2"
      },
      "source": [
        "!git clone https://github.com/takuseno/d3rlpy"
      ],
      "execution_count": 5,
      "outputs": [
        {
          "output_type": "stream",
          "name": "stdout",
          "text": [
            "fatal: destination path 'd3rlpy' already exists and is not an empty directory.\n"
          ]
        }
      ]
    },
    {
      "cell_type": "code",
      "metadata": {
        "colab": {
          "base_uri": "https://localhost:8080/"
        },
        "id": "B1EAVhFLybko",
        "outputId": "e549e51c-8a43-4dd8-f5e0-a04699a7a845"
      },
      "source": [
        "%cd d3rlpy\n",
        "!pip install Cpython numpy\n",
        "!pip install -e ."
      ],
      "execution_count": 6,
      "outputs": [
        {
          "output_type": "stream",
          "name": "stdout",
          "text": [
            "/content/drive/My Drive/repos/d3rlpy\n",
            "Collecting Cpython\n",
            "  Downloading cPython-0.0.6.tar.gz (4.7 kB)\n",
            "Requirement already satisfied: numpy in /usr/local/lib/python3.7/dist-packages (1.19.5)\n",
            "Requirement already satisfied: pymongo in /usr/local/lib/python3.7/dist-packages (from Cpython) (3.12.1)\n",
            "Requirement already satisfied: requests in /usr/local/lib/python3.7/dist-packages (from Cpython) (2.23.0)\n",
            "Requirement already satisfied: urllib3!=1.25.0,!=1.25.1,<1.26,>=1.21.1 in /usr/local/lib/python3.7/dist-packages (from requests->Cpython) (1.24.3)\n",
            "Requirement already satisfied: chardet<4,>=3.0.2 in /usr/local/lib/python3.7/dist-packages (from requests->Cpython) (3.0.4)\n",
            "Requirement already satisfied: certifi>=2017.4.17 in /usr/local/lib/python3.7/dist-packages (from requests->Cpython) (2021.10.8)\n",
            "Requirement already satisfied: idna<3,>=2.5 in /usr/local/lib/python3.7/dist-packages (from requests->Cpython) (2.10)\n",
            "Building wheels for collected packages: Cpython\n",
            "  Building wheel for Cpython (setup.py) ... \u001b[?25l\u001b[?25hdone\n",
            "  Created wheel for Cpython: filename=cPython-0.0.6-py3-none-any.whl size=4912 sha256=2d8c2f2d8d728274a68675e2119cb9cee4697ecc9257e01ff339666fc0e99688\n",
            "  Stored in directory: /root/.cache/pip/wheels/88/92/ea/c32ad929e979a7303e010b29c736c793368f6f61c8c9902865\n",
            "Successfully built Cpython\n",
            "Installing collected packages: Cpython\n",
            "Successfully installed Cpython-0.0.6\n",
            "Obtaining file:///content/drive/My%20Drive/repos/d3rlpy\n",
            "Requirement already satisfied: torch in /usr/local/lib/python3.7/dist-packages (from d3rlpy==0.91) (1.10.0+cu111)\n",
            "Requirement already satisfied: scikit-learn in /usr/local/lib/python3.7/dist-packages (from d3rlpy==0.91) (1.0.1)\n",
            "Collecting tensorboardX\n",
            "  Downloading tensorboardX-2.4.1-py2.py3-none-any.whl (124 kB)\n",
            "\u001b[K     |████████████████████████████████| 124 kB 14.5 MB/s \n",
            "\u001b[?25hRequirement already satisfied: tqdm in /usr/local/lib/python3.7/dist-packages (from d3rlpy==0.91) (4.62.3)\n",
            "Collecting GPUtil\n",
            "  Downloading GPUtil-1.4.0.tar.gz (5.5 kB)\n",
            "Requirement already satisfied: h5py in /usr/local/lib/python3.7/dist-packages (from d3rlpy==0.91) (3.1.0)\n",
            "Requirement already satisfied: gym in /usr/local/lib/python3.7/dist-packages (from d3rlpy==0.91) (0.17.3)\n",
            "Requirement already satisfied: click in /usr/local/lib/python3.7/dist-packages (from d3rlpy==0.91) (7.1.2)\n",
            "Requirement already satisfied: typing-extensions in /usr/local/lib/python3.7/dist-packages (from d3rlpy==0.91) (3.10.0.2)\n",
            "Requirement already satisfied: cloudpickle in /usr/local/lib/python3.7/dist-packages (from d3rlpy==0.91) (1.3.0)\n",
            "Requirement already satisfied: scipy in /usr/local/lib/python3.7/dist-packages (from d3rlpy==0.91) (1.4.1)\n",
            "Collecting structlog\n",
            "  Downloading structlog-21.4.0-py3-none-any.whl (51 kB)\n",
            "\u001b[K     |████████████████████████████████| 51 kB 613 kB/s \n",
            "\u001b[?25hCollecting colorama\n",
            "  Downloading colorama-0.4.4-py2.py3-none-any.whl (16 kB)\n",
            "Requirement already satisfied: pyglet<=1.5.0,>=1.4.0 in /usr/local/lib/python3.7/dist-packages (from gym->d3rlpy==0.91) (1.5.0)\n",
            "Requirement already satisfied: numpy>=1.10.4 in /usr/local/lib/python3.7/dist-packages (from gym->d3rlpy==0.91) (1.19.5)\n",
            "Requirement already satisfied: future in /usr/local/lib/python3.7/dist-packages (from pyglet<=1.5.0,>=1.4.0->gym->d3rlpy==0.91) (0.16.0)\n",
            "Requirement already satisfied: cached-property in /usr/local/lib/python3.7/dist-packages (from h5py->d3rlpy==0.91) (1.5.2)\n",
            "Requirement already satisfied: threadpoolctl>=2.0.0 in /usr/local/lib/python3.7/dist-packages (from scikit-learn->d3rlpy==0.91) (3.0.0)\n",
            "Requirement already satisfied: joblib>=0.11 in /usr/local/lib/python3.7/dist-packages (from scikit-learn->d3rlpy==0.91) (1.1.0)\n",
            "Requirement already satisfied: protobuf>=3.8.0 in /usr/local/lib/python3.7/dist-packages (from tensorboardX->d3rlpy==0.91) (3.17.3)\n",
            "Requirement already satisfied: six>=1.9 in /usr/local/lib/python3.7/dist-packages (from protobuf>=3.8.0->tensorboardX->d3rlpy==0.91) (1.15.0)\n",
            "Building wheels for collected packages: GPUtil\n",
            "  Building wheel for GPUtil (setup.py) ... \u001b[?25l\u001b[?25hdone\n",
            "  Created wheel for GPUtil: filename=GPUtil-1.4.0-py3-none-any.whl size=7411 sha256=44dcacf82b5645f37c6cf3753b03ae02d929b32a387ffd6925ca7e6d0cc82c89\n",
            "  Stored in directory: /root/.cache/pip/wheels/6e/f8/83/534c52482d6da64622ddbf72cd93c35d2ef2881b78fd08ff0c\n",
            "Successfully built GPUtil\n",
            "Installing collected packages: tensorboardX, structlog, GPUtil, colorama, d3rlpy\n",
            "  Running setup.py develop for d3rlpy\n",
            "Successfully installed GPUtil-1.4.0 colorama-0.4.4 d3rlpy-0.91 structlog-21.4.0 tensorboardX-2.4.1\n"
          ]
        }
      ]
    },
    {
      "cell_type": "code",
      "metadata": {
        "colab": {
          "base_uri": "https://localhost:8080/"
        },
        "id": "ZC3ONrYWyn-5",
        "outputId": "f1c3de2e-5e24-48a9-dbf1-240ae77b5e19"
      },
      "source": [
        "pip install git+https://github.com/takuseno/d4rl-pybullet"
      ],
      "execution_count": 7,
      "outputs": [
        {
          "output_type": "stream",
          "name": "stdout",
          "text": [
            "Collecting git+https://github.com/takuseno/d4rl-pybullet\n",
            "  Cloning https://github.com/takuseno/d4rl-pybullet to /tmp/pip-req-build-apzb6qms\n",
            "  Running command git clone -q https://github.com/takuseno/d4rl-pybullet /tmp/pip-req-build-apzb6qms\n",
            "Requirement already satisfied: gym in /usr/local/lib/python3.7/dist-packages (from d4rl-pybullet==0.1) (0.17.3)\n",
            "Collecting pybullet\n",
            "  Downloading pybullet-3.2.1-cp37-cp37m-manylinux_2_5_x86_64.manylinux1_x86_64.whl (90.8 MB)\n",
            "\u001b[K     |████████████████████████████████| 90.8 MB 295 bytes/s \n",
            "\u001b[?25hRequirement already satisfied: h5py in /usr/local/lib/python3.7/dist-packages (from d4rl-pybullet==0.1) (3.1.0)\n",
            "Requirement already satisfied: numpy>=1.10.4 in /usr/local/lib/python3.7/dist-packages (from gym->d4rl-pybullet==0.1) (1.19.5)\n",
            "Requirement already satisfied: scipy in /usr/local/lib/python3.7/dist-packages (from gym->d4rl-pybullet==0.1) (1.4.1)\n",
            "Requirement already satisfied: cloudpickle<1.7.0,>=1.2.0 in /usr/local/lib/python3.7/dist-packages (from gym->d4rl-pybullet==0.1) (1.3.0)\n",
            "Requirement already satisfied: pyglet<=1.5.0,>=1.4.0 in /usr/local/lib/python3.7/dist-packages (from gym->d4rl-pybullet==0.1) (1.5.0)\n",
            "Requirement already satisfied: future in /usr/local/lib/python3.7/dist-packages (from pyglet<=1.5.0,>=1.4.0->gym->d4rl-pybullet==0.1) (0.16.0)\n",
            "Requirement already satisfied: cached-property in /usr/local/lib/python3.7/dist-packages (from h5py->d4rl-pybullet==0.1) (1.5.2)\n",
            "Building wheels for collected packages: d4rl-pybullet\n",
            "  Building wheel for d4rl-pybullet (setup.py) ... \u001b[?25l\u001b[?25hdone\n",
            "  Created wheel for d4rl-pybullet: filename=d4rl_pybullet-0.1-py3-none-any.whl size=9677 sha256=0ab599540c8238e116fc79d9e66445609a8ad4a20a96e22878a44038eb06e4ac\n",
            "  Stored in directory: /tmp/pip-ephem-wheel-cache-q1_n88bq/wheels/b4/d8/bd/728e23d6bb27020a84d5bf37fdb63667b8d436a17ddf642bb9\n",
            "Successfully built d4rl-pybullet\n",
            "Installing collected packages: pybullet, d4rl-pybullet\n",
            "Successfully installed d4rl-pybullet-0.1 pybullet-3.2.1\n"
          ]
        }
      ]
    },
    {
      "cell_type": "code",
      "metadata": {
        "colab": {
          "base_uri": "https://localhost:8080/"
        },
        "id": "rvAt-s7i1B5P",
        "outputId": "dc22098b-4144-406d-c0af-9328b41644ec"
      },
      "source": [
        "%cd examples/pybullet/"
      ],
      "execution_count": 8,
      "outputs": [
        {
          "output_type": "stream",
          "name": "stdout",
          "text": [
            "/content/drive/My Drive/repos/d3rlpy/examples/pybullet\n"
          ]
        }
      ]
    },
    {
      "cell_type": "code",
      "metadata": {
        "colab": {
          "base_uri": "https://localhost:8080/"
        },
        "id": "iXbQ5xjAAAnw",
        "outputId": "67dfc613-aeee-415b-ec9f-32b7c47e6679"
      },
      "source": [
        "!python train_cql.py"
      ],
      "execution_count": null,
      "outputs": [
        {
          "output_type": "stream",
          "name": "stdout",
          "text": [
            "pybullet build time: Dec  1 2021 18:33:04\n",
            "Downloading dataset: https://www.dropbox.com/s/xv3p0h7dzgxt8xb/hopper-bullet-mixed-v0.hdf5?dl=1 to /root/.d4rl/datasets/hopper-bullet-mixed-v0.hdf5\n",
            "\u001b[2m2021-12-03 11:14.46\u001b[0m [\u001b[32m\u001b[1mdebug    \u001b[0m] \u001b[1mRoundIterator is selected.\u001b[0m\n",
            "\u001b[2m2021-12-03 11:14.46\u001b[0m [\u001b[32m\u001b[1minfo     \u001b[0m] \u001b[1mDirectory is created at d3rlpy_logs/CQL_20211203111446\u001b[0m\n",
            "\u001b[2m2021-12-03 11:14.46\u001b[0m [\u001b[32m\u001b[1mdebug    \u001b[0m] \u001b[1mBuilding models...\u001b[0m\n",
            "\u001b[2m2021-12-03 11:14.46\u001b[0m [\u001b[32m\u001b[1mdebug    \u001b[0m] \u001b[1mModels have been built.\u001b[0m\n",
            "\u001b[2m2021-12-03 11:14.46\u001b[0m [\u001b[32m\u001b[1minfo     \u001b[0m] \u001b[1mParameters are saved to d3rlpy_logs/CQL_20211203111446/params.json\u001b[0m \u001b[36mparams\u001b[0m=\u001b[35m{'action_scaler': None, 'actor_encoder_factory': {'type': 'default', 'params': {'activation': 'relu', 'use_batch_norm': False, 'dropout_rate': None}}, 'actor_learning_rate': 0.0001, 'actor_optim_factory': {'optim_cls': 'Adam', 'betas': (0.9, 0.999), 'eps': 1e-08, 'weight_decay': 0, 'amsgrad': False}, 'alpha_learning_rate': 0.0001, 'alpha_optim_factory': {'optim_cls': 'Adam', 'betas': (0.9, 0.999), 'eps': 1e-08, 'weight_decay': 0, 'amsgrad': False}, 'alpha_threshold': 10.0, 'batch_size': 256, 'conservative_weight': 5.0, 'critic_encoder_factory': {'type': 'default', 'params': {'activation': 'relu', 'use_batch_norm': False, 'dropout_rate': None}}, 'critic_learning_rate': 0.0003, 'critic_optim_factory': {'optim_cls': 'Adam', 'betas': (0.9, 0.999), 'eps': 1e-08, 'weight_decay': 0, 'amsgrad': False}, 'gamma': 0.99, 'generated_maxlen': 100000, 'initial_alpha': 1.0, 'initial_temperature': 1.0, 'n_action_samples': 10, 'n_critics': 2, 'n_frames': 1, 'n_steps': 1, 'q_func_factory': {'type': 'mean', 'params': {'bootstrap': False, 'share_encoder': False}}, 'real_ratio': 1.0, 'reward_scaler': None, 'scaler': None, 'soft_q_backup': False, 'target_reduction_type': 'min', 'tau': 0.005, 'temp_learning_rate': 0.0001, 'temp_optim_factory': {'optim_cls': 'Adam', 'betas': (0.9, 0.999), 'eps': 1e-08, 'weight_decay': 0, 'amsgrad': False}, 'use_gpu': None, 'algorithm': 'CQL', 'observation_shape': (15,), 'action_size': 3}\u001b[0m\n",
            "Epoch 1/100: 100% 177/177 [00:34<00:00,  5.07it/s, temp_loss=4.88, temp=0.992, alpha_loss=-15.1, alpha=1.01, critic_loss=16.2, actor_loss=-2.98]\n",
            "argv[0]=\n",
            "argv[0]=\n",
            "\u001b[2m2021-12-03 11:15.23\u001b[0m [\u001b[32m\u001b[1minfo     \u001b[0m] \u001b[1mCQL_20211203111446: epoch=1 step=177\u001b[0m \u001b[36mepoch\u001b[0m=\u001b[35m1\u001b[0m \u001b[36mmetrics\u001b[0m=\u001b[35m{'time_sample_batch': 0.0006425879095907265, 'time_algorithm_update': 0.1962886287667657, 'temp_loss': 4.859133997879459, 'temp': 0.991216240629638, 'alpha_loss': -14.957654457307806, 'alpha': 1.0086056842642315, 'critic_loss': 16.061449110171214, 'actor_loss': -2.972365922173538, 'time_step': 0.1970100322012174, 'environment': 40.760764205460525, 'td_error': 5.055729128527779, 'discounted_advantage': -40.67775516313644, 'value_scale': 2.758488184144311, 'value_std': 0.062237661374369535, 'action_diff': 0.3887850901009114}\u001b[0m \u001b[36mstep\u001b[0m=\u001b[35m177\u001b[0m\n",
            "\u001b[2m2021-12-03 11:15.23\u001b[0m [\u001b[32m\u001b[1minfo     \u001b[0m] \u001b[1mModel parameters are saved to d3rlpy_logs/CQL_20211203111446/model_177.pt\u001b[0m\n",
            "Epoch 2/100: 100% 177/177 [00:34<00:00,  5.09it/s, temp_loss=3.95, temp=0.975, alpha_loss=-9.49, alpha=1.02, critic_loss=10.9, actor_loss=-3.12]\n",
            "\u001b[2m2021-12-03 11:16.00\u001b[0m [\u001b[32m\u001b[1minfo     \u001b[0m] \u001b[1mCQL_20211203111446: epoch=2 step=354\u001b[0m \u001b[36mepoch\u001b[0m=\u001b[35m2\u001b[0m \u001b[36mmetrics\u001b[0m=\u001b[35m{'time_sample_batch': 0.0006432425504350393, 'time_algorithm_update': 0.1954148260213561, 'temp_loss': 3.9395833688940707, 'temp': 0.9752258931176138, 'alpha_loss': -9.463636269003658, 'alpha': 1.0227752385166404, 'critic_loss': 10.906414484573624, 'actor_loss': -3.14713385145543, 'time_step': 0.196137942836783, 'environment': 27.79333769900986, 'td_error': 5.92860624839579, 'discounted_advantage': -49.909812932136475, 'value_scale': 4.395949174389193, 'value_std': 0.07108310535787098, 'action_diff': 0.3490035245598138}\u001b[0m \u001b[36mstep\u001b[0m=\u001b[35m354\u001b[0m\n",
            "\u001b[2m2021-12-03 11:16.00\u001b[0m [\u001b[32m\u001b[1minfo     \u001b[0m] \u001b[1mModel parameters are saved to d3rlpy_logs/CQL_20211203111446/model_354.pt\u001b[0m\n",
            "Epoch 3/100: 100% 177/177 [00:35<00:00,  5.01it/s, temp_loss=3.62, temp=0.961, alpha_loss=-8.42, alpha=1.04, critic_loss=10.3, actor_loss=-4.52]\n",
            "\u001b[2m2021-12-03 11:16.37\u001b[0m [\u001b[32m\u001b[1minfo     \u001b[0m] \u001b[1mCQL_20211203111446: epoch=3 step=531\u001b[0m \u001b[36mepoch\u001b[0m=\u001b[35m3\u001b[0m \u001b[36mmetrics\u001b[0m=\u001b[35m{'time_sample_batch': 0.0006571974457994019, 'time_algorithm_update': 0.1987353623923609, 'temp_loss': 3.6140029147519903, 'temp': 0.9605200132407711, 'alpha_loss': -8.405658713841843, 'alpha': 1.0358615393018993, 'critic_loss': 10.298476273057151, 'actor_loss': -4.54663524924025, 'time_step': 0.19947246104310462, 'environment': 25.438262666469676, 'td_error': 5.508457814890585, 'discounted_advantage': -46.19580496896957, 'value_scale': 5.972947927216172, 'value_std': 0.07966241760095356, 'action_diff': 0.334436974888075}\u001b[0m \u001b[36mstep\u001b[0m=\u001b[35m531\u001b[0m\n",
            "\u001b[2m2021-12-03 11:16.37\u001b[0m [\u001b[32m\u001b[1minfo     \u001b[0m] \u001b[1mModel parameters are saved to d3rlpy_logs/CQL_20211203111446/model_531.pt\u001b[0m\n",
            "Epoch 4/100: 100% 177/177 [00:35<00:00,  4.92it/s, temp_loss=3.43, temp=0.946, alpha_loss=-7.82, alpha=1.05, critic_loss=10, actor_loss=-6.08]\n",
            "\u001b[2m2021-12-03 11:17.14\u001b[0m [\u001b[32m\u001b[1minfo     \u001b[0m] \u001b[1mCQL_20211203111446: epoch=4 step=708\u001b[0m \u001b[36mepoch\u001b[0m=\u001b[35m4\u001b[0m \u001b[36mmetrics\u001b[0m=\u001b[35m{'time_sample_batch': 0.0006574304763880153, 'time_algorithm_update': 0.20210265035683153, 'temp_loss': 3.4216142913042487, 'temp': 0.9460038455192652, 'alpha_loss': -7.816360543676689, 'alpha': 1.0495533283147436, 'critic_loss': 10.034753988018144, 'actor_loss': -6.110298237558139, 'time_step': 0.2028406555369749, 'environment': 22.35799921028316, 'td_error': 5.600700399287049, 'discounted_advantage': -49.582327325052525, 'value_scale': 7.901709481726304, 'value_std': 0.08393610697364606, 'action_diff': 0.3241567694911282}\u001b[0m \u001b[36mstep\u001b[0m=\u001b[35m708\u001b[0m\n",
            "\u001b[2m2021-12-03 11:17.14\u001b[0m [\u001b[32m\u001b[1minfo     \u001b[0m] \u001b[1mModel parameters are saved to d3rlpy_logs/CQL_20211203111446/model_708.pt\u001b[0m\n",
            "Epoch 5/100: 100% 177/177 [00:35<00:00,  4.98it/s, temp_loss=3.24, temp=0.932, alpha_loss=-7.44, alpha=1.06, critic_loss=9.86, actor_loss=-7.64]\n",
            "\u001b[2m2021-12-03 11:17.51\u001b[0m [\u001b[32m\u001b[1minfo     \u001b[0m] \u001b[1mCQL_20211203111446: epoch=5 step=885\u001b[0m \u001b[36mepoch\u001b[0m=\u001b[35m5\u001b[0m \u001b[36mmetrics\u001b[0m=\u001b[35m{'time_sample_batch': 0.0006632293011509092, 'time_algorithm_update': 0.1997031694078176, 'temp_loss': 3.2389624509434243, 'temp': 0.9317533511899959, 'alpha_loss': -7.432621514056362, 'alpha': 1.0637519864712732, 'critic_loss': 9.85858883291988, 'actor_loss': -7.670169536676784, 'time_step': 0.20044766172850872, 'environment': 21.877288451846105, 'td_error': 5.5583826425119955, 'discounted_advantage': -51.59552199747362, 'value_scale': 9.550906317702834, 'value_std': 0.10276709111129886, 'action_diff': 0.32327186733451024}\u001b[0m \u001b[36mstep\u001b[0m=\u001b[35m885\u001b[0m\n",
            "\u001b[2m2021-12-03 11:17.51\u001b[0m [\u001b[32m\u001b[1minfo     \u001b[0m] \u001b[1mModel parameters are saved to d3rlpy_logs/CQL_20211203111446/model_885.pt\u001b[0m\n",
            "Epoch 6/100: 100% 177/177 [00:35<00:00,  4.95it/s, temp_loss=3.09, temp=0.918, alpha_loss=-7.13, alpha=1.08, critic_loss=9.7, actor_loss=-9.21]\n",
            "\u001b[2m2021-12-03 11:18.29\u001b[0m [\u001b[32m\u001b[1minfo     \u001b[0m] \u001b[1mCQL_20211203111446: epoch=6 step=1062\u001b[0m \u001b[36mepoch\u001b[0m=\u001b[35m6\u001b[0m \u001b[36mmetrics\u001b[0m=\u001b[35m{'time_sample_batch': 0.0006586400802526097, 'time_algorithm_update': 0.2009022572619767, 'temp_loss': 3.0917426839386675, 'temp': 0.9178178408051615, 'alpha_loss': -7.133505053439383, 'alpha': 1.078428419296351, 'critic_loss': 9.687821412490585, 'actor_loss': -9.231439294114624, 'time_step': 0.20164658255496268, 'environment': 21.37920696695568, 'td_error': 5.5910871909788895, 'discounted_advantage': -51.323056874745234, 'value_scale': 10.85882957260284, 'value_std': 0.10778034666372405, 'action_diff': 0.3126737287996218}\u001b[0m \u001b[36mstep\u001b[0m=\u001b[35m1062\u001b[0m\n",
            "\u001b[2m2021-12-03 11:18.29\u001b[0m [\u001b[32m\u001b[1minfo     \u001b[0m] \u001b[1mModel parameters are saved to d3rlpy_logs/CQL_20211203111446/model_1062.pt\u001b[0m\n",
            "Epoch 7/100: 100% 177/177 [00:36<00:00,  4.91it/s, temp_loss=2.96, temp=0.904, alpha_loss=-6.92, alpha=1.09, critic_loss=9.57, actor_loss=-10.7]\n",
            "\u001b[2m2021-12-03 11:19.06\u001b[0m [\u001b[32m\u001b[1minfo     \u001b[0m] \u001b[1mCQL_20211203111446: epoch=7 step=1239\u001b[0m \u001b[36mepoch\u001b[0m=\u001b[35m7\u001b[0m \u001b[36mmetrics\u001b[0m=\u001b[35m{'time_sample_batch': 0.0006698713464252019, 'time_algorithm_update': 0.20272948647623007, 'temp_loss': 2.9582810617436124, 'temp': 0.9041473050575471, 'alpha_loss': -6.909847017061913, 'alpha': 1.0936340996101077, 'critic_loss': 9.550190793592378, 'actor_loss': -10.766245378612798, 'time_step': 0.20348132397495422, 'environment': 22.52319733274155, 'td_error': 5.313532466236946, 'discounted_advantage': -49.16509648141635, 'value_scale': 12.615029635449444, 'value_std': 0.11381542067866322, 'action_diff': 0.3094103799776741}\u001b[0m \u001b[36mstep\u001b[0m=\u001b[35m1239\u001b[0m\n",
            "\u001b[2m2021-12-03 11:19.06\u001b[0m [\u001b[32m\u001b[1minfo     \u001b[0m] \u001b[1mModel parameters are saved to d3rlpy_logs/CQL_20211203111446/model_1239.pt\u001b[0m\n",
            "Epoch 8/100: 100% 177/177 [00:35<00:00,  4.93it/s, temp_loss=2.85, temp=0.891, alpha_loss=-6.72, alpha=1.11, critic_loss=9.43, actor_loss=-12.3]\n",
            "\u001b[2m2021-12-03 11:19.44\u001b[0m [\u001b[32m\u001b[1minfo     \u001b[0m] \u001b[1mCQL_20211203111446: epoch=8 step=1416\u001b[0m \u001b[36mepoch\u001b[0m=\u001b[35m8\u001b[0m \u001b[36mmetrics\u001b[0m=\u001b[35m{'time_sample_batch': 0.0006529315043303926, 'time_algorithm_update': 0.20199372674112265, 'temp_loss': 2.8463409135570634, 'temp': 0.890748964527906, 'alpha_loss': -6.718890785497461, 'alpha': 1.1093031194923961, 'critic_loss': 9.45755682692016, 'actor_loss': -12.278517297432247, 'time_step': 0.2027258024377338, 'environment': 69.5975906566356, 'td_error': 5.110493597695383, 'discounted_advantage': -45.79357566407395, 'value_scale': 13.913273572052491, 'value_std': 0.12392884530037152, 'action_diff': 0.2969029993823267}\u001b[0m \u001b[36mstep\u001b[0m=\u001b[35m1416\u001b[0m\n",
            "\u001b[2m2021-12-03 11:19.44\u001b[0m [\u001b[32m\u001b[1minfo     \u001b[0m] \u001b[1mModel parameters are saved to d3rlpy_logs/CQL_20211203111446/model_1416.pt\u001b[0m\n",
            "Epoch 9/100:  25% 45/177 [00:09<00:26,  4.96it/s, temp_loss=2.79, temp=0.883, alpha_loss=-6.54, alpha=1.12, critic_loss=9.36, actor_loss=-13.2]"
          ]
        }
      ]
    },
    {
      "cell_type": "code",
      "metadata": {
        "id": "jYKloND7ADUl"
      },
      "source": [
        "pip install git+https://github.com/rail-berkeley/d4rl"
      ],
      "execution_count": null,
      "outputs": []
    }
  ]
}