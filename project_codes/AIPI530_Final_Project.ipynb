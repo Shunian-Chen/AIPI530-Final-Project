{
  "cells": [
    {
      "cell_type": "markdown",
      "metadata": {
        "colab_type": "text",
        "id": "view-in-github"
      },
      "source": [
        "<a href=\"https://colab.research.google.com/github/Shunian-Chen/AIPI530-Final-Project/blob/master/AIPI530_Final_Project.ipynb\" target=\"_parent\"><img src=\"https://colab.research.google.com/assets/colab-badge.svg\" alt=\"Open In Colab\"/></a>"
      ]
    },
    {
      "cell_type": "markdown",
      "metadata": {},
      "source": [
        "# AIPI530 Final Project Demo"
      ]
    },
    {
      "cell_type": "markdown",
      "metadata": {},
      "source": [
        "## 1. Mount Google Drive"
      ]
    },
    {
      "cell_type": "code",
      "execution_count": 4,
      "metadata": {
        "colab": {
          "base_uri": "https://localhost:8080/"
        },
        "id": "Se2tPsGKy7wG",
        "outputId": "cf11cbd1-9d70-4fa8-e131-8d4feb39e023"
      },
      "outputs": [
        {
          "ename": "ModuleNotFoundError",
          "evalue": "No module named 'google.colab'",
          "output_type": "error",
          "traceback": [
            "\u001b[1;31m---------------------------------------------------------------------------\u001b[0m",
            "\u001b[1;31mModuleNotFoundError\u001b[0m                       Traceback (most recent call last)",
            "\u001b[1;32m~\\AppData\\Local\\Temp/ipykernel_16088/3902516854.py\u001b[0m in \u001b[0;36m<module>\u001b[1;34m\u001b[0m\n\u001b[0;32m      1\u001b[0m \u001b[1;32mfrom\u001b[0m \u001b[0mos\u001b[0m\u001b[1;33m.\u001b[0m\u001b[0mpath\u001b[0m \u001b[1;32mimport\u001b[0m \u001b[0mjoin\u001b[0m\u001b[1;33m\u001b[0m\u001b[1;33m\u001b[0m\u001b[0m\n\u001b[1;32m----> 2\u001b[1;33m \u001b[1;32mfrom\u001b[0m \u001b[0mgoogle\u001b[0m\u001b[1;33m.\u001b[0m\u001b[0mcolab\u001b[0m \u001b[1;32mimport\u001b[0m \u001b[0mdrive\u001b[0m\u001b[1;33m\u001b[0m\u001b[1;33m\u001b[0m\u001b[0m\n\u001b[0m\u001b[0;32m      3\u001b[0m \u001b[1;33m\u001b[0m\u001b[0m\n\u001b[0;32m      4\u001b[0m \u001b[0mROOT\u001b[0m \u001b[1;33m=\u001b[0m \u001b[1;34m\"/content/drive\"\u001b[0m\u001b[1;33m\u001b[0m\u001b[1;33m\u001b[0m\u001b[0m\n\u001b[0;32m      5\u001b[0m \u001b[0mdrive\u001b[0m\u001b[1;33m.\u001b[0m\u001b[0mmount\u001b[0m\u001b[1;33m(\u001b[0m\u001b[0mROOT\u001b[0m\u001b[1;33m)\u001b[0m\u001b[1;33m\u001b[0m\u001b[1;33m\u001b[0m\u001b[0m\n",
            "\u001b[1;31mModuleNotFoundError\u001b[0m: No module named 'google.colab'"
          ]
        }
      ],
      "source": [
        "from os.path import join\n",
        "from google.colab import drive\n",
        "\n",
        "ROOT = \"/content/drive\"\n",
        "drive.mount(ROOT)"
      ]
    },
    {
      "cell_type": "markdown",
      "metadata": {},
      "source": [
        "## 2. Git Clone Project code from Github and install"
      ]
    },
    {
      "cell_type": "code",
      "execution_count": null,
      "metadata": {
        "colab": {
          "base_uri": "https://localhost:8080/"
        },
        "id": "XjYMgTm7x0oC",
        "outputId": "936dd9c4-275c-4bc7-d700-851fffa1a4b2"
      },
      "outputs": [
        {
          "name": "stdout",
          "output_type": "stream",
          "text": [
            "fatal: destination path 'd3rlpy' already exists and is not an empty directory.\n"
          ]
        }
      ],
      "source": [
        "REPO = \"My Drive/repos\"\n",
        "REPO_PATH = join(ROOT, REPO)\n",
        "!mkdir \"{REPO_PATH}\"\n",
        "%cd \"{REPO_PATH}\"\n",
        "\n",
        "!git clone https://github.com/Shunian-Chen/AIPI530-Final-Project\n",
        "%cd AIPI530-Final-Project\n",
        "!pip install Cpython numpy\n",
        "!python setup.py install"
      ]
    },
    {
      "cell_type": "markdown",
      "metadata": {},
      "source": [
        "## 3. Install environment"
      ]
    },
    {
      "cell_type": "code",
      "execution_count": null,
      "metadata": {
        "colab": {
          "base_uri": "https://localhost:8080/"
        },
        "id": "ZC3ONrYWyn-5",
        "outputId": "f1c3de2e-5e24-48a9-dbf1-240ae77b5e19"
      },
      "outputs": [],
      "source": [
        "!pip install git+https://github.com/takuseno/d4rl-pybullet"
      ]
    },
    {
      "cell_type": "markdown",
      "metadata": {},
      "source": [
        "## 4. Train the model and save the results to target path\n",
        "First train the model in Model.py and save the model and desired scores. Then load the trained model to perform the off policy evaluation using FQE algorithm. Last plot the results."
      ]
    },
    {
      "cell_type": "code",
      "execution_count": null,
      "metadata": {
        "colab": {
          "base_uri": "https://localhost:8080/"
        },
        "id": "iXbQ5xjAAAnw",
        "outputId": "69d71fe6-7689-4b7e-9846-22aedfdbcef9"
      },
      "outputs": [],
      "source": [
        "%cd \"F:\\\\Graduate\\\\2021-2022 Term 1\\\\AIPI530\\\\AIPI530-Final-Project\"\n",
        "from os.path import join\n",
        "log_path = \"d3rlpy_logs\"\n",
        "save_path = join(log_path, \"models\")\n",
        "models = ['cql', 'ddpg', 'sac']\n",
        "epoch = 1000\n",
        "\n",
        "for model in models:\n",
        "    model_save_path = join(save_path, model)\n",
        "    !python \"project_codes/Model.py\" --save_path \"{model_save_path}\" --q-func qr --model \"{model}\" --epoch \"{epoch}\"\n",
        "    !python \"project_codes/OPE.py\" --load_path \"{model_save_path}\" --q-func qr --model \"{model}\" --epoch \"{epoch}\"\n",
        "    !python \"project_codes/plot.py\" --path \"{log_path}\" --model \"{model}\""
      ]
    }
  ],
  "metadata": {
    "accelerator": "GPU",
    "colab": {
      "authorship_tag": "ABX9TyMKhgqrjwdKtvXj2OKo0xx+",
      "include_colab_link": true,
      "name": "AIPI530 Final Project.ipynb",
      "provenance": []
    },
    "kernelspec": {
      "display_name": "Python 3",
      "name": "python3"
    },
    "language_info": {
      "codemirror_mode": {
        "name": "ipython",
        "version": 3
      },
      "file_extension": ".py",
      "mimetype": "text/x-python",
      "name": "python",
      "nbconvert_exporter": "python",
      "pygments_lexer": "ipython3",
      "version": "3.7.11"
    }
  },
  "nbformat": 4,
  "nbformat_minor": 0
}
